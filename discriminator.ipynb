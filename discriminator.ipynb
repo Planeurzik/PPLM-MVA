{
 "cells": [
  {
   "cell_type": "code",
   "execution_count": 30,
   "metadata": {},
   "outputs": [
    {
     "name": "stdout",
     "output_type": "stream",
     "text": [
      "cuda\n"
     ]
    }
   ],
   "source": [
    "import torch\n",
    "import torch.nn.functional as F\n",
    "from transformers import GPT2LMHeadModel, GPT2Tokenizer\n",
    "from pplm_classification_head import ClassificationHead  # From PPLM repo\n",
    "\n",
    "model_discrim = \"sentiment\"\n",
    "\n",
    "if model_discrim == \"sentiment\":\n",
    "    CLASS_SIZE = 5\n",
    "else:\n",
    "    CLASS_SIZE = 2\n",
    "\n",
    "device = torch.device('cuda' if torch.cuda.is_available() else 'cpu')\n",
    "print(device)"
   ]
  },
  {
   "cell_type": "code",
   "execution_count": null,
   "metadata": {},
   "outputs": [
    {
     "name": "stderr",
     "output_type": "stream",
     "text": [
      "/tmp/ipykernel_2076057/576891537.py:47: UserWarning: Implicit dimension choice for softmax has been deprecated. Change the call to include dim=X as an argument.\n",
      "  top_k_probs = F.softmax(top_k_values)\n"
     ]
    },
    {
     "ename": "RuntimeError",
     "evalue": "probability tensor contains either `inf`, `nan` or element < 0",
     "output_type": "error",
     "traceback": [
      "\u001b[0;31m---------------------------------------------------------------------------\u001b[0m",
      "\u001b[0;31mRuntimeError\u001b[0m                              Traceback (most recent call last)",
      "Cell \u001b[0;32mIn[31], line 68\u001b[0m\n\u001b[1;32m     59\u001b[0m prompt \u001b[38;5;241m=\u001b[39m \u001b[38;5;124m\"\u001b[39m\u001b[38;5;124mThe chicken is\u001b[39m\u001b[38;5;124m\"\u001b[39m\n\u001b[1;32m     60\u001b[0m \u001b[38;5;124;03m\"\"\"\u001b[39;00m\n\u001b[1;32m     61\u001b[0m \u001b[38;5;124;03minput_ids = tokenizer(prompt, return_tensors='pt').input_ids\u001b[39;00m\n\u001b[1;32m     62\u001b[0m \u001b[38;5;124;03minput_ids = input_ids.to(device)\u001b[39;00m\n\u001b[0;32m   (...)\u001b[0m\n\u001b[1;32m     66\u001b[0m \u001b[38;5;124;03mprint(discriminator(logits_clone))\u001b[39;00m\n\u001b[1;32m     67\u001b[0m \u001b[38;5;124;03m\"\"\"\u001b[39;00m\n\u001b[0;32m---> 68\u001b[0m generated_text \u001b[38;5;241m=\u001b[39m \u001b[43mgenerate_text_with_steering\u001b[49m\u001b[43m(\u001b[49m\u001b[43mmodel\u001b[49m\u001b[43m,\u001b[49m\u001b[43m \u001b[49m\u001b[43mtokenizer\u001b[49m\u001b[43m,\u001b[49m\u001b[43m \u001b[49m\u001b[43mdiscriminator\u001b[49m\u001b[43m,\u001b[49m\u001b[43m \u001b[49m\u001b[43mprompt\u001b[49m\u001b[43m)\u001b[49m\n\u001b[1;32m     69\u001b[0m \u001b[38;5;28mprint\u001b[39m(generated_text)\n",
      "Cell \u001b[0;32mIn[31], line 48\u001b[0m, in \u001b[0;36mgenerate_text_with_steering\u001b[0;34m(model, tokenizer, discriminator, prompt, steps, alpha, kl_factor)\u001b[0m\n\u001b[1;32m     46\u001b[0m top_k_values, top_k_indices \u001b[38;5;241m=\u001b[39m torch\u001b[38;5;241m.\u001b[39mtopk(new_logits[\u001b[38;5;241m0\u001b[39m,:], \u001b[38;5;241m100\u001b[39m)\n\u001b[1;32m     47\u001b[0m top_k_probs \u001b[38;5;241m=\u001b[39m F\u001b[38;5;241m.\u001b[39msoftmax(top_k_values)\n\u001b[0;32m---> 48\u001b[0m token_k_id \u001b[38;5;241m=\u001b[39m \u001b[43mtorch\u001b[49m\u001b[38;5;241;43m.\u001b[39;49m\u001b[43mmultinomial\u001b[49m\u001b[43m(\u001b[49m\u001b[43mtop_k_probs\u001b[49m\u001b[43m,\u001b[49m\u001b[43m \u001b[49m\u001b[43mnum_samples\u001b[49m\u001b[38;5;241;43m=\u001b[39;49m\u001b[38;5;241;43m1\u001b[39;49m\u001b[43m)\u001b[49m\n\u001b[1;32m     49\u001b[0m next_token \u001b[38;5;241m=\u001b[39m top_k_indices[token_k_id]\u001b[38;5;241m.\u001b[39munsqueeze(\u001b[38;5;241m0\u001b[39m)\n\u001b[1;32m     51\u001b[0m output \u001b[38;5;241m=\u001b[39m torch\u001b[38;5;241m.\u001b[39mcat((output, next_token), dim\u001b[38;5;241m=\u001b[39m\u001b[38;5;241m1\u001b[39m)\n",
      "\u001b[0;31mRuntimeError\u001b[0m: probability tensor contains either `inf`, `nan` or element < 0"
     ]
    }
   ],
   "source": [
    "def load_gpt2():\n",
    "    model = GPT2LMHeadModel.from_pretrained(\"gpt2-medium\").to(device)\n",
    "    tokenizer = GPT2Tokenizer.from_pretrained(\"gpt2-medium\")\n",
    "    return model, tokenizer\n",
    "\n",
    "def load_discriminator(discrim_path):\n",
    "    discrim = ClassificationHead(class_size=CLASS_SIZE, embed_size=1024).to(device)  # Adjust class_size as needed\n",
    "    discrim.load_state_dict(torch.load(discrim_path, map_location=device))\n",
    "    discrim.eval()\n",
    "    return discrim\n",
    "\n",
    "def generate_text_with_steering(model, tokenizer, discriminator, prompt, steps=100, alpha=2, kl_factor=1):\n",
    "    input_ids = tokenizer(prompt, return_tensors='pt').input_ids\n",
    "    output = input_ids.clone().to(device)\n",
    "    \n",
    "    for _ in range(steps):\n",
    "        outputs = model(output, return_dict=True, output_hidden_states=True)\n",
    "        hidden_states = outputs.hidden_states[-1][:, -1, :].detach().requires_grad_(True)\n",
    "        logits = outputs.logits[:, -1, :]\n",
    "        \n",
    "        pred = discriminator(hidden_states)\n",
    "        \n",
    "        if model_discrim==\"sentiment\":\n",
    "            pred = pred[:, [2, 3]]  # Keep only logits for classes 2 and 3\n",
    "        \n",
    "        target_class = torch.tensor([1], device=device)\n",
    "        \n",
    "        original_probs = F.softmax(logits, dim=-1)\n",
    "\n",
    "        # Compute KL divergence: D_KL(P_model || P_steered)\n",
    "        new_logits = model.lm_head(hidden_states)\n",
    "        new_probs = F.softmax(new_logits, dim=-1)\n",
    "        kl_loss = torch.nn.KLDivLoss(reduction=\"batchmean\")(new_probs.log(), original_probs)\n",
    "    \n",
    "        loss = torch.nn.CrossEntropyLoss()(pred, target_class) + kl_factor*kl_loss\n",
    "        loss.backward()\n",
    "        \n",
    "        # Modify hidden state\n",
    "        with torch.no_grad():\n",
    "            hidden_states += alpha * hidden_states.grad\n",
    "            new_logits = model.lm_head(hidden_states)\n",
    "        \n",
    "        # Get next token\n",
    "        #next_token = torch.argmax(logits, dim=-1)[:, None]\n",
    "        \n",
    "        top_k_values, top_k_indices = torch.topk(new_logits[0,:], 100)\n",
    "        top_k_probs = F.softmax(top_k_values)\n",
    "        token_k_id = torch.multinomial(top_k_probs, num_samples=1)\n",
    "        next_token = top_k_indices[token_k_id].unsqueeze(0)\n",
    "        \n",
    "        output = torch.cat((output, next_token), dim=1)\n",
    "        \n",
    "    \n",
    "    return tokenizer.decode(output[0], skip_special_tokens=True)\n",
    "\n",
    "# Example Usage\n",
    "model, tokenizer = load_gpt2()\n",
    "discriminator = load_discriminator(\"discrim_models/\"+model_discrim+\"_classifierhead.pt\")\n",
    "prompt = \"The chicken is\"\n",
    "\"\"\"\n",
    "input_ids = tokenizer(prompt, return_tensors='pt').input_ids\n",
    "input_ids = input_ids.to(device)\n",
    "outputs = model(input_ids, return_dict=True, output_hidden_states=True)\n",
    "hidden_states = outputs.hidden_states[-1][:, -1, :]\n",
    "logits_clone = hidden_states.clone().detach().requires_grad_(True)\n",
    "print(discriminator(logits_clone))\n",
    "\"\"\"\n",
    "generated_text = generate_text_with_steering(model, tokenizer, discriminator, prompt)\n",
    "print(generated_text)"
   ]
  },
  {
   "cell_type": "code",
   "execution_count": null,
   "metadata": {},
   "outputs": [
    {
     "name": "stdout",
     "output_type": "stream",
     "text": [
      "tensor([[12.7256,  1.9373, 21.4120,  4.2105,  0.3421]], device='cuda:0',\n",
      "       grad_fn=<AddmmBackward0>)\n"
     ]
    }
   ],
   "source": [
    "input_ids = tokenizer(generated_text, return_tensors='pt').input_ids\n",
    "input_ids = input_ids.to(device)\n",
    "outputs = model(input_ids, return_dict=True, output_hidden_states=True)\n",
    "hidden_states = outputs.hidden_states[-1][:, -1, :]\n",
    "logits_clone = hidden_states.clone().detach().requires_grad_(True)\n",
    "print(discriminator(logits_clone))"
   ]
  }
 ],
 "metadata": {
  "kernelspec": {
   "display_name": "projet_gpu",
   "language": "python",
   "name": "python3"
  },
  "language_info": {
   "codemirror_mode": {
    "name": "ipython",
    "version": 3
   },
   "file_extension": ".py",
   "mimetype": "text/x-python",
   "name": "python",
   "nbconvert_exporter": "python",
   "pygments_lexer": "ipython3",
   "version": "3.10.16"
  }
 },
 "nbformat": 4,
 "nbformat_minor": 2
}
