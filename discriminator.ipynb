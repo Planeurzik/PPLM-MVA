{
 "cells": [
  {
   "cell_type": "code",
   "execution_count": 24,
   "metadata": {},
   "outputs": [
    {
     "name": "stdout",
     "output_type": "stream",
     "text": [
      "cuda\n"
     ]
    }
   ],
   "source": [
    "import torch\n",
    "import torch.nn.functional as F\n",
    "from transformers import GPT2LMHeadModel, GPT2Tokenizer\n",
    "from pplm_classification_head import ClassificationHead  # From PPLM repo\n",
    "\n",
    "model_discrim = \"toxicity\"\n",
    "\n",
    "if model_discrim == \"sentiment\":\n",
    "    CLASS_SIZE = 5\n",
    "else:\n",
    "    CLASS_SIZE = 2\n",
    "\n",
    "device = torch.device('cuda' if torch.cuda.is_available() else 'cpu')\n",
    "print(device)"
   ]
  },
  {
   "cell_type": "code",
   "execution_count": 25,
   "metadata": {},
   "outputs": [
    {
     "name": "stderr",
     "output_type": "stream",
     "text": [
      "/tmp/ipykernel_2076057/1107706414.py:43: UserWarning: Implicit dimension choice for softmax has been deprecated. Change the call to include dim=X as an argument.\n",
      "  top_k_probs = F.softmax(top_k_values)\n"
     ]
    },
    {
     "name": "stdout",
     "output_type": "stream",
     "text": [
      "The chicken is brought assfuckfuckfuckfuckfuckfuckfuckfuckfuckfuckfuckfuckfuckfuckfuckfuckfuckfuckfuckfuckfuckfuckfuckfuckfuckfuckfuckfuckfuckfuckfuckfuckfuckfuckfuckfuckfuckfuckfuckfuckfuckfuckfuckfuckfuckfuckfuckfuckfuckfuckfuckfuckfuckfuckfuckfuckfuckfuckfuckfuckfuckfuckfuckfuckfuckfuckfuckfuckfuckfuckfuckfuckfuckfuckfuckfuckfuckfuckfuckfuckfuckfuckfuckfuckfuckfuckfuckfuckfuckfuckfuckfuckfuckfuckfuckfuckfuckfuck\n"
     ]
    }
   ],
   "source": [
    "def load_gpt2():\n",
    "    model = GPT2LMHeadModel.from_pretrained(\"gpt2-medium\").to(device)\n",
    "    tokenizer = GPT2Tokenizer.from_pretrained(\"gpt2-medium\")\n",
    "    return model, tokenizer\n",
    "\n",
    "def load_discriminator(discrim_path):\n",
    "    discrim = ClassificationHead(class_size=CLASS_SIZE, embed_size=1024).to(device)  # Adjust class_size as needed\n",
    "    discrim.load_state_dict(torch.load(discrim_path, map_location=device))\n",
    "    discrim.eval()\n",
    "    return discrim\n",
    "\n",
    "def generate_text_with_steering(model, tokenizer, discriminator, prompt, steps=100, alpha=10, kl_factor=1):\n",
    "    input_ids = tokenizer(prompt, return_tensors='pt').input_ids\n",
    "    output = input_ids.clone().to(device)\n",
    "    \n",
    "    for _ in range(steps):\n",
    "        outputs = model(output, return_dict=True, output_hidden_states=True)\n",
    "        hidden_states = outputs.hidden_states[-1][:, -1, :].detach().requires_grad_(True)\n",
    "        logits = outputs.logits[:, -1, :]\n",
    "        \n",
    "        pred = discriminator(hidden_states)\n",
    "        target_class = torch.tensor([0], device=device)\n",
    "        \n",
    "        original_probs = F.softmax(logits, dim=-1)\n",
    "\n",
    "        # Compute KL divergence: D_KL(P_model || P_steered)\n",
    "        new_logits = model.lm_head(hidden_states)\n",
    "        new_probs = F.softmax(new_logits, dim=-1)\n",
    "        kl_loss = torch.nn.KLDivLoss(reduction=\"batchmean\")(new_probs.log(), original_probs)\n",
    "    \n",
    "        loss = torch.nn.CrossEntropyLoss()(pred, target_class) + kl_factor*kl_loss\n",
    "        loss.backward()\n",
    "        \n",
    "        # Modify hidden state\n",
    "        with torch.no_grad():\n",
    "            hidden_states += alpha * hidden_states.grad\n",
    "            new_logits = model.lm_head(hidden_states)\n",
    "        \n",
    "        # Get next token\n",
    "        #next_token = torch.argmax(logits, dim=-1)[:, None]\n",
    "        \n",
    "        top_k_values, top_k_indices = torch.topk(new_logits[0,:], 100)\n",
    "        top_k_probs = F.softmax(top_k_values)\n",
    "        token_k_id = torch.multinomial(top_k_probs, num_samples=1)\n",
    "        next_token = top_k_indices[token_k_id].unsqueeze(0)\n",
    "        \n",
    "        output = torch.cat((output, next_token), dim=1)\n",
    "        \n",
    "    \n",
    "    return tokenizer.decode(output[0], skip_special_tokens=True)\n",
    "\n",
    "# Example Usage\n",
    "model, tokenizer = load_gpt2()\n",
    "discriminator = load_discriminator(\"discrim_models/\"+model_discrim+\"_classifierhead.pt\")\n",
    "prompt = \"The chicken is\"\n",
    "\"\"\"\n",
    "input_ids = tokenizer(prompt, return_tensors='pt').input_ids\n",
    "input_ids = input_ids.to(device)\n",
    "outputs = model(input_ids, return_dict=True, output_hidden_states=True)\n",
    "hidden_states = outputs.hidden_states[-1][:, -1, :]\n",
    "logits_clone = hidden_states.clone().detach().requires_grad_(True)\n",
    "print(discriminator(logits_clone))\n",
    "\"\"\"\n",
    "generated_text = generate_text_with_steering(model, tokenizer, discriminator, prompt)\n",
    "print(generated_text)"
   ]
  },
  {
   "cell_type": "code",
   "execution_count": 26,
   "metadata": {},
   "outputs": [
    {
     "name": "stdout",
     "output_type": "stream",
     "text": [
      "tensor([[-9.9640,  4.6708]], device='cuda:0', grad_fn=<AddmmBackward0>)\n"
     ]
    }
   ],
   "source": [
    "input_ids = tokenizer(generated_text, return_tensors='pt').input_ids\n",
    "input_ids = input_ids.to(device)\n",
    "outputs = model(input_ids, return_dict=True, output_hidden_states=True)\n",
    "hidden_states = outputs.hidden_states[-1][:, -1, :]\n",
    "logits_clone = hidden_states.clone().detach().requires_grad_(True)\n",
    "print(discriminator(logits_clone))"
   ]
  }
 ],
 "metadata": {
  "kernelspec": {
   "display_name": "projet_gpu",
   "language": "python",
   "name": "python3"
  },
  "language_info": {
   "codemirror_mode": {
    "name": "ipython",
    "version": 3
   },
   "file_extension": ".py",
   "mimetype": "text/x-python",
   "name": "python",
   "nbconvert_exporter": "python",
   "pygments_lexer": "ipython3",
   "version": "3.10.16"
  }
 },
 "nbformat": 4,
 "nbformat_minor": 2
}
